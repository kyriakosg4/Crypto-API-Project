{
 "cells": [
  {
   "cell_type": "markdown",
   "id": "fd6a7cd7-2e10-4e72-9e02-f87794759d62",
   "metadata": {},
   "source": [
    "# Crypto API Project"
   ]
  },
  {
   "cell_type": "markdown",
   "id": "75017095-267a-43a9-b672-a761e41e1275",
   "metadata": {},
   "source": [
    "## Part A: API Integration with CoinMarketCap\n",
    "\n",
    "This section demonstrates how to retrieve the latest cryptocurrency listings using the CoinMarketCap API.\n",
    "The Python code below is used to send a request to the CoinMarketCap API and handle the response.\n",
    "\n",
    "### Setup\n",
    "\n",
    "- First, we need to import the necessary modules. We'll use the `requests` library to handle HTTP requests and the `json` module to parse the API response.\n",
    " - Define the parameters start (The starting point for the cryptocurrency listings), limit (The number of listings to retrieve), convert (The currency in which to display the prices\n",
    " - We use a Session object to manage the request. The session's headers are updated with the authentication details.\n",
    " - The request is sent using the get method, and the response is processed. The response is converted from JSON format to a Python dictionary.\n",
    "\n",
    "> **Note:** The API requires an API key for authentication. This key is included in the request headers.\n",
    "\n",
    "\n"
   ]
  },
  {
   "cell_type": "code",
   "execution_count": null,
   "id": "a39a61cb-7a55-49e1-a870-8760f1688c8c",
   "metadata": {},
   "outputs": [],
   "source": [
    "# API which was taken from the website CoinMarketCap\n",
    "\n",
    "from requests import Request, Session\n",
    "from requests.exceptions import ConnectionError, Timeout, TooManyRedirects\n",
    "import json\n",
    "\n",
    "url = 'https://pro-api.coinmarketcap.com/v1/cryptocurrency/listings/latest' \n",
    "#Original Sandbox Environment: 'https://sandbox-api.coinmarketcap.com/v1/cryptocurrency/listings/latest'\n",
    "parameters = {\n",
    "  'start':'1',\n",
    "  'limit':'15', # the limitation corresponding to the rows\n",
    "  'convert':'USD'\n",
    "}\n",
    "headers = {\n",
    "  'Accepts': 'application/json',\n",
    "  'X-CMC_PRO_API_KEY': '496c8a65-36d9-4784-8361-86d603e64dc2',  # copy paste key from the api website\n",
    "}\n",
    "\n",
    "session = Session()\n",
    "session.headers.update(headers)\n",
    "\n",
    "try:\n",
    "  response = session.get(url, params=parameters)\n",
    "  data = json.loads(response.text)\n",
    "  print(data)\n",
    "except (ConnectionError, Timeout, TooManyRedirects) as e:\n",
    "  print(e)"
   ]
  },
  {
   "cell_type": "code",
   "execution_count": null,
   "id": "e368d293-730d-4b19-89da-f846f28c3efc",
   "metadata": {},
   "outputs": [],
   "source": [
    "type(data)"
   ]
  },
  {
   "cell_type": "code",
   "execution_count": null,
   "id": "ccc810d0-1280-4cf9-9a6f-43024582efb1",
   "metadata": {},
   "outputs": [],
   "source": [
    "# Import library pandas\n",
    "import pandas as pd\n",
    "\n",
    "\n",
    "#This allows us to see all the columns of the dataframe\n",
    "pd.set_option('display.max_columns', None)\n",
    "pd.set_option('display.max_rows', None)"
   ]
  },
  {
   "cell_type": "code",
   "execution_count": null,
   "id": "4c3b639a-f41b-4623-988b-d21f8893cd82",
   "metadata": {
    "scrolled": true
   },
   "outputs": [],
   "source": [
    "#This normalizes the data and makes it all pretty in a dataframe\n",
    "#The below code will be included in the function\n",
    "\n",
    "df = pd.json_normalize(data['data']) # it will convert the nested JSON into a flat DataFrame\n",
    "df['timestamp'] = pd.to_datetime('now') # add column at the end for the currently time\n",
    "df"
   ]
  },
  {
   "cell_type": "markdown",
   "id": "9bb8c2d4-47a3-4980-af9a-33988603b1f3",
   "metadata": {},
   "source": [
    "# Part B: Function api_runner\n",
    "\n",
    "In this section, we continue from the API request made in the previous part. We process the retrieved data, add a timestamp, and manage the CSV file where the data will be saved, all in one function.\n",
    "\n",
    "### Data Normalization\n",
    "\n",
    "After retrieving the data from the CoinMarketCap API, we need to transform it into a format suitable for analysis. This involves converting the JSON response into a pandas DataFrame.\n",
    "\n",
    "### Adding a Timestamp\n",
    "\n",
    "To track when the data was retrieved, we add a timestamp column to the DataFrame.\n",
    "\n",
    "### Saving Data to a CSV File\n",
    "\n",
    "The DataFrame is then saved to a CSV file. This involves checking if the file already exists and deciding whether to create a new file or append to an existing one.\n"
   ]
  },
  {
   "cell_type": "code",
   "execution_count": null,
   "id": "858ed216-73b9-43bd-a0e1-25c530586efe",
   "metadata": {},
   "outputs": [],
   "source": [
    "# Fumction\n",
    "# csv file creation\n",
    "\n",
    "def api_runner():\n",
    "\n",
    "    global df\n",
    "    url = 'https://pro-api.coinmarketcap.com/v1/cryptocurrency/listings/latest' \n",
    "    #Original Sandbox Environment: 'https://sandbox-api.coinmarketcap.com/v1/cryptocurrency/listings/latest'\n",
    "    parameters = {\n",
    "      'start':'1',\n",
    "      'limit':'15', # the limitation corresponding to the rows\n",
    "      'convert':'USD'\n",
    "    }\n",
    "    headers = {\n",
    "      'Accepts': 'application/json',\n",
    "      'X-CMC_PRO_API_KEY': '496c8a65-36d9-4784-8361-86d603e64dc2',  # copy paste key from the api website\n",
    "    }\n",
    "    \n",
    "    session = Session()\n",
    "    session.headers.update(headers)\n",
    "    \n",
    "    try:\n",
    "      response = session.get(url, params=parameters)\n",
    "      data = json.loads(response.text)\n",
    "      #print(data)\n",
    "    except (ConnectionError, Timeout, TooManyRedirects) as e:\n",
    "      print(e)\n",
    "\n",
    "\n",
    "    df = pd.json_normalize(data['data'])\n",
    "\n",
    "    # adds an extar column in the dataframe with datetime\n",
    "    df['timestamp'] = pd.to_datetime('now')\n",
    "    df\n",
    "\n",
    "    if not os.path.isfile(r'C:\\Users\\User\\Python Scripts\\API.csv'):\n",
    "        df.to_csv(r'C:\\Users\\User\\Python Scripts\\API.csv', header = 'column_names')\n",
    "    else:\n",
    "        df.to_csv(r'C:\\Users\\User\\Python Scripts\\API.csv', mode = 'a', header = False) # it will append the data and not overwrite them \n",
    "    "
   ]
  },
  {
   "cell_type": "markdown",
   "id": "eb4610fc-8b05-4221-9415-3040ac155d7e",
   "metadata": {},
   "source": [
    "# Part C: Executing the Function with a Timer\n",
    "\n",
    "In this section, we demonstrate how to repeatedly execute the `api_runner()` function at regular intervals. We use the `time` library to introduce a delay between each execution, ensuring that the function runs periodically without manual intervention.\n",
    "\n",
    "\n"
   ]
  },
  {
   "cell_type": "code",
   "execution_count": null,
   "id": "aa840c6f-dfaf-4002-b025-91bd67e04af5",
   "metadata": {},
   "outputs": [],
   "source": [
    "# call the functiom\n",
    "# import time library to set a timer \n",
    "\n",
    "import os\n",
    "from time import time\n",
    "from time import sleep\n",
    "\n",
    "for i in range(333):\n",
    "    api_runner()\n",
    "    print('API Runner completed')\n",
    "    sleep(60) # sleep for 1 minute\n",
    "exit()"
   ]
  },
  {
   "cell_type": "markdown",
   "id": "f346b250-45b9-4c37-929b-aeb568b10aa5",
   "metadata": {},
   "source": [
    "# Part D: Data Analysis and Transformation\n",
    "\n",
    "In this section, we process the CSV file created earlier to perform various data transformations and calculations. This involves reading the data, setting display options, and performing operations to analyze percentage changes in cryptocurrency values.\n",
    "\n",
    "### Reading the CSV File\n",
    "\n",
    "First, we read the data from the CSV file into a pandas DataFrame.\n"
   ]
  },
  {
   "cell_type": "code",
   "execution_count": null,
   "id": "a9e835c1-8897-4c13-9c99-cafe9c12aee8",
   "metadata": {},
   "outputs": [],
   "source": [
    "# read the file - collect the data\n",
    "\n",
    "df_2 = pd.read_csv(r'C:\\Users\\User\\Python Scripts\\API.csv')\n",
    "df_2.head(10)"
   ]
  },
  {
   "cell_type": "markdown",
   "id": "fe9c742e-c857-4021-b0c0-f8cd86962362",
   "metadata": {},
   "source": [
    "### Setting Float Display Format\n",
    "\n",
    "To improve the readability of floating-point numbers, we set a default format for displaying float values."
   ]
  },
  {
   "cell_type": "code",
   "execution_count": null,
   "id": "3808e023-2db0-4db0-8906-0e9ef8e8f896",
   "metadata": {},
   "outputs": [],
   "source": [
    "# set a default float format for each value\n",
    "\n",
    "pd.set_option('display.float_format', lambda x: '%.5f' %x)"
   ]
  },
  {
   "cell_type": "markdown",
   "id": "c3cef31f-bfe5-4ee6-8b7f-33fc8ab623b0",
   "metadata": {},
   "source": [
    "### Calculating Percentage Changes\n",
    "\n",
    "We calculate the average percentage changes for each cryptocurrency over different time periods.\n"
   ]
  },
  {
   "cell_type": "code",
   "execution_count": null,
   "id": "5827b63f-6983-4291-bef8-002f8e3a1e9f",
   "metadata": {},
   "outputs": [],
   "source": [
    "# create a new dataframe which contains data about the percentage chaneges of each crypto currency\n",
    "\n",
    "df3 = df.groupby('name',sort = False)[['quote.USD.percent_change_1h','quote.USD.percent_change_24h','quote.USD.percent_change_7d','quote.USD.percent_change_30d']].mean()\n",
    "df3"
   ]
  },
  {
   "cell_type": "markdown",
   "id": "bd303c5b-0e37-47b7-bf1c-6f61e5cb298b",
   "metadata": {},
   "source": [
    "### Transforming DataFrames\n",
    "\n",
    "We transform the DataFrame to make the data more suitable for analysis and visualization"
   ]
  },
  {
   "cell_type": "code",
   "execution_count": null,
   "id": "eeed3ef5-ec90-4ffd-99b1-7eeca645a669",
   "metadata": {},
   "outputs": [],
   "source": [
    "# now its not longer a data frame\n",
    "# we do it to modify the format of the dataframe\n",
    "\n",
    "df4 = df3.stack()\n",
    "df4"
   ]
  },
  {
   "cell_type": "code",
   "execution_count": null,
   "id": "fa636e4c-06da-4d4d-9e6f-edd5c053772b",
   "metadata": {},
   "outputs": [],
   "source": [
    "type(df4)"
   ]
  },
  {
   "cell_type": "code",
   "execution_count": null,
   "id": "e2669f45-e3cc-4692-8f06-e5a8f5288fa3",
   "metadata": {},
   "outputs": [],
   "source": [
    "# we convert it now to a frame as we want it\n",
    "df5 = df4.to_frame(name = 'values')\n",
    "df5"
   ]
  },
  {
   "cell_type": "code",
   "execution_count": null,
   "id": "d38a24ab-1fc4-4d35-b4bd-31b474073da3",
   "metadata": {},
   "outputs": [],
   "source": [
    "# quantity of values and datatype\n",
    "df5.count()"
   ]
  },
  {
   "cell_type": "code",
   "execution_count": null,
   "id": "22f74673-cf7b-433e-8764-817c2bb70185",
   "metadata": {},
   "outputs": [],
   "source": [
    "# name is acting like an index which we dont want beacause we want to be able to use it\n",
    "\n",
    "index = pd.Index(range(60))\n",
    "\n",
    "# df6 = df5.set_index(index) # first we did that\n",
    "df6 = df5.reset_index()\n",
    "df6"
   ]
  },
  {
   "cell_type": "code",
   "execution_count": null,
   "id": "b1403048-a008-4a7d-bc25-54c5678ee25a",
   "metadata": {},
   "outputs": [],
   "source": [
    "# Rename Columns\n",
    "df7 = df6.rename(columns = {'level_1': 'percent_change'})\n",
    "df7"
   ]
  },
  {
   "cell_type": "markdown",
   "id": "b1c77c53-cf02-401a-83a8-805172026edd",
   "metadata": {},
   "source": [
    "### Renaming Values for Visualization\n",
    "\n",
    "Finally, we replace column names with more descriptive labels to aid in visualization.\n",
    "\n"
   ]
  },
  {
   "cell_type": "code",
   "execution_count": null,
   "id": "4fecc5c4-cd43-4ffd-80db-251ca20a24bc",
   "metadata": {},
   "outputs": [],
   "source": [
    "# Rename the specific rows which help us for the visualization\n",
    "replace_dict = {\n",
    "    'quote.USD.percent_change_1h': '1h',\n",
    "    'quote.USD.percent_change_24h': '24h',\n",
    "    'quote.USD.percent_change_7d': '7d',\n",
    "    'quote.USD.percent_change_30d': '30d'}\n",
    "df7['percent_change'] = df7['percent_change'].replace(replace_dict)\n",
    "df7"
   ]
  },
  {
   "cell_type": "markdown",
   "id": "1f809325-e8e6-4494-9f1e-f4abdae49010",
   "metadata": {},
   "source": [
    "# Part E: Data Visualization\n",
    "\n",
    "In this section, we use Seaborn and Matplotlib to visualize the percentage changes in cryptocurrency values. Data visualization helps in understanding patterns and trends effectively.\n"
   ]
  },
  {
   "cell_type": "code",
   "execution_count": null,
   "id": "9e76ac59-98c6-41d1-a66c-8652797e1671",
   "metadata": {},
   "outputs": [],
   "source": [
    "# import library related to visualizations\n",
    "import seaborn as sns \n",
    "import matplotlib.pyplot as plt"
   ]
  },
  {
   "cell_type": "code",
   "execution_count": null,
   "id": "aa58713f-f0e2-48f1-9b35-a10bf16829b2",
   "metadata": {},
   "outputs": [],
   "source": [
    "sns.catplot(x = 'percent_change', y = 'values', hue = 'name', data = df7, kind = 'point')\n",
    "\n",
    "#width = 50\n",
    "#height = 100\n",
    "#sns.set(rc={'figure.figsize':(width, height)})"
   ]
  },
  {
   "cell_type": "code",
   "execution_count": null,
   "id": "c635102f-009b-4f75-ac41-1171153edeb0",
   "metadata": {},
   "outputs": [],
   "source": [
    "# querry method to print out a specific row based on determined parameters\n",
    "df10 = df[['name','quote.USD.price','timestamp']]\n",
    "df10 = df10.query(\"name == 'Bitcoin'\")\n",
    "df10"
   ]
  }
 ],
 "metadata": {
  "kernelspec": {
   "display_name": "Python 3 (ipykernel)",
   "language": "python",
   "name": "python3"
  },
  "language_info": {
   "codemirror_mode": {
    "name": "ipython",
    "version": 3
   },
   "file_extension": ".py",
   "mimetype": "text/x-python",
   "name": "python",
   "nbconvert_exporter": "python",
   "pygments_lexer": "ipython3",
   "version": "3.11.7"
  }
 },
 "nbformat": 4,
 "nbformat_minor": 5
}
